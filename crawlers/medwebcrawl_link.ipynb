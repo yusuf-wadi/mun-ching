{
  "cells": [
    {
      "cell_type": "code",
      "execution_count": 47,
      "metadata": {},
      "outputs": [],
      "source": [
        "from selenium import webdriver\n",
        "from webdriver_manager.chrome import ChromeDriverManager\n",
        "from selenium.webdriver.support.ui import WebDriverWait\n",
        "from selenium.webdriver.support import expected_conditions as EC\n",
        "from selenium.webdriver.common.by import By\n",
        "from time import sleep\n",
        "import json\n"
      ]
    },
    {
      "cell_type": "code",
      "execution_count": 48,
      "metadata": {},
      "outputs": [],
      "source": [
        "\n",
        "auth_ = input('auth required?(y/n): ')\n",
        "isUTD = input(\"is utd?(y/n): \")\n",
        "isDL = input(\"is it a download?(y/n): \")\n",
        "utdJSON_path ='elems_JSON/utd_els.json'\n",
        "elemsJSON_path ='elems_JSON/elems.json'\n",
        "\n",
        "with open(utdJSON_path, \"r\") as j:\n",
        "    utd_els = json.loads(j.read())\n",
        "    \n",
        "with open(elemsJSON_path, \"r\") as j:\n",
        "    elems = json.loads(j.read())\n",
        "\n",
        "\n",
        "target = elems['url']\n",
        "\n",
        "links = []\n"
      ]
    },
    {
      "cell_type": "code",
      "execution_count": 49,
      "metadata": {},
      "outputs": [
        {
          "name": "stderr",
          "output_type": "stream",
          "text": [
            "C:\\Users\\thewa\\AppData\\Local\\Temp\\ipykernel_41892\\2943767534.py:14: DeprecationWarning: executable_path has been deprecated, please pass in a Service object\n",
            "  driver = webdriver.Chrome(ChromeDriverManager().install(), options=options)\n"
          ]
        }
      ],
      "source": [
        "\n",
        "# Define Brave path\n",
        "brave_path = \"C:/Program Files/BraveSoftware/Brave-Browser-Nightly/Application/brave.exe\"\n",
        "options = webdriver.ChromeOptions()\n",
        "options.binary_location = brave_path\n",
        "\n",
        "#set dl options\n",
        "prefs = {\"download.default_directory\" : \"C:/Users/thewa/Desktop/projects/computational_neuroscience/AI_ML/projects/mun_ching/crawlers/content\", \"download.prompt_for_download\" : False}\n",
        "\n",
        "options.add_experimental_option(\"prefs\",prefs)\n",
        "options.add_experimental_option(\"excludeSwitches\", [\"enable-automation\"])\n",
        "options.add_experimental_option('useAutomationExtension', False)\n",
        "\n",
        "# Create new automated instance of Brave\n",
        "driver = webdriver.Chrome(ChromeDriverManager().install(), options=options)\n",
        "\n"
      ]
    },
    {
      "cell_type": "code",
      "execution_count": 50,
      "metadata": {},
      "outputs": [],
      "source": [
        "\n",
        "\n",
        "def auth(target):\n",
        "\n",
        "    url_login = elems[\"url\"]\n",
        "    # login\n",
        "    if isUTD != 'y':\n",
        "\n",
        "        driver.get(url_login)\n",
        "        usern = elems[\"user\"]\n",
        "        pw = input(\"Enter pass:\")\n",
        "        user_in = driver.find_element(\"id\", elems[\"u_el\"])\n",
        "        user_in.send_keys(usern)\n",
        "\n",
        "    # enter pass   \n",
        "        user_pass = driver.find_element(\"id\", elems[\"p_el\"])\n",
        "        user_pass.send_keys(pw)\n",
        "\n",
        "        # submit\n",
        "        driver.find_element(\"id\", elems[\"sub_el\"]).click()\n",
        "\n",
        "    else:\n",
        "\n",
        "        driver.get(target)\n",
        "        #user\n",
        "        usern=utd_els[\"user\"]\n",
        "        user_in = driver.find_element(\"id\", utd_els[\"u_el\"])\n",
        "        user_in.send_keys(usern)\n",
        "        #pass\n",
        "        sleep(1)\n",
        "        pw = input(\"Enter pass:\")\n",
        "        user_pass = driver.find_element(\"id\", utd_els[\"p_el\"])\n",
        "        user_pass.send_keys(pw)\n",
        "        #submit\n",
        "        driver.find_element(\"id\", utd_els[\"sub_el\"]).click()\n",
        "\n",
        "        sleep(1)\n"
      ]
    },
    {
      "cell_type": "code",
      "execution_count": 51,
      "metadata": {},
      "outputs": [],
      "source": [
        "\n",
        "def getLinks():\n",
        "        ##alexander specific\n",
        "        for ii in range(1,172):\n",
        "            hrefs = driver.find_elements(\"xpath\",\"//a[@href]\")\n",
        "            with open(\"crawlers/links.txt\",\"a\") as l:\n",
        "                for href in hrefs:\n",
        "                    l.write(href.get_attribute(\"href\") + \"\\n\")\n",
        "            driver.get(\"https://search.alexanderstreet.com/ctrn/browse/title?sort_by=real_title_sort&sort_order=ASC&items_per_page=10&page=\" + str(i))\n",
        "            sleep(4)\n",
        "        ########\n"
      ]
    },
    {
      "cell_type": "code",
      "execution_count": 52,
      "metadata": {},
      "outputs": [],
      "source": [
        "\n",
        "def getTranscripts():\n",
        "\n",
        "    with open(\"transcripts_v2.txt\", \"w\", encoding=\"utf-8\") as tr:\n",
        "        with open(\"links_nodup.txt\", \"r\") as nd:\n",
        "            with open(\"checkedLinks.txt\",\"w\") as ch:\n",
        "                links = nd.readlines()\n",
        "                driver.execute_script(\"window.open('about:blank','main')\")\n",
        "                tabs = [\"1st\", \"2nd\", \"3rd\", \"4th\", \"5th\", \"6th\", \"7th\"]\n",
        "\n",
        "                for i in range(0, len(links), 7):\n",
        "                    \n",
        "                    #open tabs\n",
        "                    for j in range(0, len(tabs)):\n",
        "                        driver.execute_script(f\"window.open('about:blank','{tabs[j]}')\")\n",
        "                        driver.switch_to.window(tabs[j])\n",
        "                        driver.get(links[i+j])\n",
        "                        ch.write(links[i+j])\n",
        "                    ####\n",
        "\n",
        "                    sleep(5.5)\n",
        "\n",
        "                    #get text\n",
        "                    for j in range(0,len(tabs)):\n",
        "                        driver.switch_to.window(tabs[j])\n",
        "                        transc = driver.find_element(\"tag name\", \"text\")\n",
        "                        tr.write(transc.text)\n",
        "                    ####\n",
        "\n",
        "                    #close tabs\n",
        "                    for j in range(0,len(tabs)):\n",
        "                        driver.switch_to.window(tabs[j])\n",
        "                        driver.close()\n",
        "                    ####\n",
        "\n",
        "                    driver.switch_to.window('main')\n"
      ]
    },
    {
      "cell_type": "code",
      "execution_count": 53,
      "metadata": {},
      "outputs": [
        {
          "ename": "NoSuchElementException",
          "evalue": "Message: no such element: Unable to locate element: {\"method\":\"tag name\",\"selector\":\"text\"}\n  (Session info: chrome=105.0.5195.68)\nStacktrace:\nBacktrace:\n\tOrdinal0 [0x009EDF13+2219795]\n\tOrdinal0 [0x00982841+1779777]\n\tOrdinal0 [0x0089423D+803389]\n\tOrdinal0 [0x008C3025+995365]\n\tOrdinal0 [0x008C31EB+995819]\n\tOrdinal0 [0x008F0F52+1183570]\n\tOrdinal0 [0x008DE844+1108036]\n\tOrdinal0 [0x008EF192+1175954]\n\tOrdinal0 [0x008DE616+1107478]\n\tOrdinal0 [0x008B7F89+950153]\n\tOrdinal0 [0x008B8F56+954198]\n\tGetHandleVerifier [0x00CE2CB2+3040210]\n\tGetHandleVerifier [0x00CD2BB4+2974420]\n\tGetHandleVerifier [0x00A86A0A+565546]\n\tGetHandleVerifier [0x00A85680+560544]\n\tOrdinal0 [0x00989A5C+1808988]\n\tOrdinal0 [0x0098E3A8+1827752]\n\tOrdinal0 [0x0098E495+1827989]\n\tOrdinal0 [0x009980A4+1867940]\n\tBaseThreadInitThunk [0x75006739+25]\n\tRtlGetFullPathName_UEx [0x772490AF+1215]\n\tRtlGetFullPathName_UEx [0x7724907D+1165]\n",
          "output_type": "error",
          "traceback": [
            "\u001b[1;31m---------------------------------------------------------------------------\u001b[0m",
            "\u001b[1;31mNoSuchElementException\u001b[0m                    Traceback (most recent call last)",
            "\u001b[1;32mc:\\Users\\thewa\\Desktop\\projects\\computational_neuroscience\\AI_ML\\projects\\mun_ching\\crawlers\\medwebcrawl_link.ipynb Cell 7\u001b[0m in \u001b[0;36m<cell line: 1>\u001b[1;34m()\u001b[0m\n\u001b[0;32m     <a href='vscode-notebook-cell:/c%3A/Users/thewa/Desktop/projects/computational_neuroscience/AI_ML/projects/mun_ching/crawlers/medwebcrawl_link.ipynb#W6sZmlsZQ%3D%3D?line=12'>13</a>\u001b[0m getTr \u001b[39m=\u001b[39m \u001b[39minput\u001b[39m(\u001b[39m\"\u001b[39m\u001b[39mGet Transcripts?(y/n): \u001b[39m\u001b[39m\"\u001b[39m)\n\u001b[0;32m     <a href='vscode-notebook-cell:/c%3A/Users/thewa/Desktop/projects/computational_neuroscience/AI_ML/projects/mun_ching/crawlers/medwebcrawl_link.ipynb#W6sZmlsZQ%3D%3D?line=13'>14</a>\u001b[0m \u001b[39mif\u001b[39;00m  getTr \u001b[39m==\u001b[39m \u001b[39m'\u001b[39m\u001b[39my\u001b[39m\u001b[39m'\u001b[39m:\n\u001b[1;32m---> <a href='vscode-notebook-cell:/c%3A/Users/thewa/Desktop/projects/computational_neuroscience/AI_ML/projects/mun_ching/crawlers/medwebcrawl_link.ipynb#W6sZmlsZQ%3D%3D?line=14'>15</a>\u001b[0m     getTranscripts()\n",
            "\u001b[1;32mc:\\Users\\thewa\\Desktop\\projects\\computational_neuroscience\\AI_ML\\projects\\mun_ching\\crawlers\\medwebcrawl_link.ipynb Cell 7\u001b[0m in \u001b[0;36mgetTranscripts\u001b[1;34m()\u001b[0m\n\u001b[0;32m     <a href='vscode-notebook-cell:/c%3A/Users/thewa/Desktop/projects/computational_neuroscience/AI_ML/projects/mun_ching/crawlers/medwebcrawl_link.ipynb#W6sZmlsZQ%3D%3D?line=22'>23</a>\u001b[0m \u001b[39mfor\u001b[39;00m j \u001b[39min\u001b[39;00m \u001b[39mrange\u001b[39m(\u001b[39m0\u001b[39m,\u001b[39mlen\u001b[39m(tabs)):\n\u001b[0;32m     <a href='vscode-notebook-cell:/c%3A/Users/thewa/Desktop/projects/computational_neuroscience/AI_ML/projects/mun_ching/crawlers/medwebcrawl_link.ipynb#W6sZmlsZQ%3D%3D?line=23'>24</a>\u001b[0m     driver\u001b[39m.\u001b[39mswitch_to\u001b[39m.\u001b[39mwindow(tabs[j])\n\u001b[1;32m---> <a href='vscode-notebook-cell:/c%3A/Users/thewa/Desktop/projects/computational_neuroscience/AI_ML/projects/mun_ching/crawlers/medwebcrawl_link.ipynb#W6sZmlsZQ%3D%3D?line=24'>25</a>\u001b[0m     transc \u001b[39m=\u001b[39m driver\u001b[39m.\u001b[39;49mfind_element(\u001b[39m\"\u001b[39;49m\u001b[39mtag name\u001b[39;49m\u001b[39m\"\u001b[39;49m, \u001b[39m\"\u001b[39;49m\u001b[39mtext\u001b[39;49m\u001b[39m\"\u001b[39;49m)\n\u001b[0;32m     <a href='vscode-notebook-cell:/c%3A/Users/thewa/Desktop/projects/computational_neuroscience/AI_ML/projects/mun_ching/crawlers/medwebcrawl_link.ipynb#W6sZmlsZQ%3D%3D?line=25'>26</a>\u001b[0m     tr\u001b[39m.\u001b[39mwrite(transc\u001b[39m.\u001b[39mtext)\n\u001b[0;32m     <a href='vscode-notebook-cell:/c%3A/Users/thewa/Desktop/projects/computational_neuroscience/AI_ML/projects/mun_ching/crawlers/medwebcrawl_link.ipynb#W6sZmlsZQ%3D%3D?line=26'>27</a>\u001b[0m \u001b[39m####\u001b[39;00m\n\u001b[0;32m     <a href='vscode-notebook-cell:/c%3A/Users/thewa/Desktop/projects/computational_neuroscience/AI_ML/projects/mun_ching/crawlers/medwebcrawl_link.ipynb#W6sZmlsZQ%3D%3D?line=27'>28</a>\u001b[0m \n\u001b[0;32m     <a href='vscode-notebook-cell:/c%3A/Users/thewa/Desktop/projects/computational_neuroscience/AI_ML/projects/mun_ching/crawlers/medwebcrawl_link.ipynb#W6sZmlsZQ%3D%3D?line=28'>29</a>\u001b[0m \u001b[39m#close tabs\u001b[39;00m\n",
            "File \u001b[1;32mc:\\Users\\thewa\\AppData\\Local\\Programs\\Python\\Python310\\lib\\site-packages\\selenium\\webdriver\\remote\\webdriver.py:857\u001b[0m, in \u001b[0;36mWebDriver.find_element\u001b[1;34m(self, by, value)\u001b[0m\n\u001b[0;32m    854\u001b[0m     by \u001b[39m=\u001b[39m By\u001b[39m.\u001b[39mCSS_SELECTOR\n\u001b[0;32m    855\u001b[0m     value \u001b[39m=\u001b[39m \u001b[39m'\u001b[39m\u001b[39m[name=\u001b[39m\u001b[39m\"\u001b[39m\u001b[39m%s\u001b[39;00m\u001b[39m\"\u001b[39m\u001b[39m]\u001b[39m\u001b[39m'\u001b[39m \u001b[39m%\u001b[39m value\n\u001b[1;32m--> 857\u001b[0m \u001b[39mreturn\u001b[39;00m \u001b[39mself\u001b[39;49m\u001b[39m.\u001b[39;49mexecute(Command\u001b[39m.\u001b[39;49mFIND_ELEMENT, {\n\u001b[0;32m    858\u001b[0m     \u001b[39m'\u001b[39;49m\u001b[39musing\u001b[39;49m\u001b[39m'\u001b[39;49m: by,\n\u001b[0;32m    859\u001b[0m     \u001b[39m'\u001b[39;49m\u001b[39mvalue\u001b[39;49m\u001b[39m'\u001b[39;49m: value})[\u001b[39m'\u001b[39m\u001b[39mvalue\u001b[39m\u001b[39m'\u001b[39m]\n",
            "File \u001b[1;32mc:\\Users\\thewa\\AppData\\Local\\Programs\\Python\\Python310\\lib\\site-packages\\selenium\\webdriver\\remote\\webdriver.py:435\u001b[0m, in \u001b[0;36mWebDriver.execute\u001b[1;34m(self, driver_command, params)\u001b[0m\n\u001b[0;32m    433\u001b[0m response \u001b[39m=\u001b[39m \u001b[39mself\u001b[39m\u001b[39m.\u001b[39mcommand_executor\u001b[39m.\u001b[39mexecute(driver_command, params)\n\u001b[0;32m    434\u001b[0m \u001b[39mif\u001b[39;00m response:\n\u001b[1;32m--> 435\u001b[0m     \u001b[39mself\u001b[39;49m\u001b[39m.\u001b[39;49merror_handler\u001b[39m.\u001b[39;49mcheck_response(response)\n\u001b[0;32m    436\u001b[0m     response[\u001b[39m'\u001b[39m\u001b[39mvalue\u001b[39m\u001b[39m'\u001b[39m] \u001b[39m=\u001b[39m \u001b[39mself\u001b[39m\u001b[39m.\u001b[39m_unwrap_value(\n\u001b[0;32m    437\u001b[0m         response\u001b[39m.\u001b[39mget(\u001b[39m'\u001b[39m\u001b[39mvalue\u001b[39m\u001b[39m'\u001b[39m, \u001b[39mNone\u001b[39;00m))\n\u001b[0;32m    438\u001b[0m     \u001b[39mreturn\u001b[39;00m response\n",
            "File \u001b[1;32mc:\\Users\\thewa\\AppData\\Local\\Programs\\Python\\Python310\\lib\\site-packages\\selenium\\webdriver\\remote\\errorhandler.py:247\u001b[0m, in \u001b[0;36mErrorHandler.check_response\u001b[1;34m(self, response)\u001b[0m\n\u001b[0;32m    245\u001b[0m         alert_text \u001b[39m=\u001b[39m value[\u001b[39m'\u001b[39m\u001b[39malert\u001b[39m\u001b[39m'\u001b[39m]\u001b[39m.\u001b[39mget(\u001b[39m'\u001b[39m\u001b[39mtext\u001b[39m\u001b[39m'\u001b[39m)\n\u001b[0;32m    246\u001b[0m     \u001b[39mraise\u001b[39;00m exception_class(message, screen, stacktrace, alert_text)  \u001b[39m# type: ignore[call-arg]  # mypy is not smart enough here\u001b[39;00m\n\u001b[1;32m--> 247\u001b[0m \u001b[39mraise\u001b[39;00m exception_class(message, screen, stacktrace)\n",
            "\u001b[1;31mNoSuchElementException\u001b[0m: Message: no such element: Unable to locate element: {\"method\":\"tag name\",\"selector\":\"text\"}\n  (Session info: chrome=105.0.5195.68)\nStacktrace:\nBacktrace:\n\tOrdinal0 [0x009EDF13+2219795]\n\tOrdinal0 [0x00982841+1779777]\n\tOrdinal0 [0x0089423D+803389]\n\tOrdinal0 [0x008C3025+995365]\n\tOrdinal0 [0x008C31EB+995819]\n\tOrdinal0 [0x008F0F52+1183570]\n\tOrdinal0 [0x008DE844+1108036]\n\tOrdinal0 [0x008EF192+1175954]\n\tOrdinal0 [0x008DE616+1107478]\n\tOrdinal0 [0x008B7F89+950153]\n\tOrdinal0 [0x008B8F56+954198]\n\tGetHandleVerifier [0x00CE2CB2+3040210]\n\tGetHandleVerifier [0x00CD2BB4+2974420]\n\tGetHandleVerifier [0x00A86A0A+565546]\n\tGetHandleVerifier [0x00A85680+560544]\n\tOrdinal0 [0x00989A5C+1808988]\n\tOrdinal0 [0x0098E3A8+1827752]\n\tOrdinal0 [0x0098E495+1827989]\n\tOrdinal0 [0x009980A4+1867940]\n\tBaseThreadInitThunk [0x75006739+25]\n\tRtlGetFullPathName_UEx [0x772490AF+1215]\n\tRtlGetFullPathName_UEx [0x7724907D+1165]\n"
          ]
        }
      ],
      "source": [
        "\n",
        "if __name__ == '__main__':\n",
        "    #check if auth is required\n",
        "    if auth_ == 'y':\n",
        "        auth(target)\n",
        "\n",
        "    driver.get(target)\n",
        "\n",
        "    getL = input(\"get the links?(y/n):\")\n",
        "\n",
        "    if getL == 'y':\n",
        "        getLinks()\n",
        "    #alexander specific\n",
        "    getTr = input(\"Get Transcripts?(y/n): \")\n",
        "    if  getTr == 'y':\n",
        "        getTranscripts()\n",
        "    ####\n",
        "\n",
        "    \n"
      ]
    }
  ],
  "metadata": {
    "anaconda-cloud": {},
    "kernelspec": {
      "display_name": "Python 3.10.6 64-bit",
      "language": "python",
      "name": "python3"
    },
    "language_info": {
      "codemirror_mode": {
        "name": "ipython",
        "version": 3
      },
      "file_extension": ".py",
      "mimetype": "text/x-python",
      "name": "python",
      "nbconvert_exporter": "python",
      "pygments_lexer": "ipython3",
      "version": "3.10.6"
    },
    "vscode": {
      "interpreter": {
        "hash": "aa66cff0e5ae32d77d72462d7ae697218f766852b9c548e64c3db10232013247"
      }
    }
  },
  "nbformat": 4,
  "nbformat_minor": 4
}
