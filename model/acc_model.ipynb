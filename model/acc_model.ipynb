{
  "cells": [
    {
      "cell_type": "code",
      "execution_count": 84,
      "metadata": {},
      "outputs": [],
      "source": [
        "import openai\n",
        "\n",
        "# set api key\n",
        "openai.api_key_path = \"text/key.txt\"\n",
        "cur_model = \"text-davinci-002\"\n",
        "done = False\n",
        "finish = False\n",
        "\n",
        "curcon_path = 'mem/cur_convo.txt'\n",
        "conv_path = 'text/conversations.txt'\n",
        "res_path = 'text/response.txt'\n",
        "ctx_path = 'mem/cntx_prompt.txt'\n",
        "nl = '\\n'"
      ]
    },
    {
      "cell_type": "code",
      "execution_count": 85,
      "metadata": {},
      "outputs": [],
      "source": [
        "\n",
        "def searchConv():\n",
        "    return\n"
      ]
    },
    {
      "cell_type": "code",
      "execution_count": 86,
      "metadata": {},
      "outputs": [],
      "source": [
        "def callGPT(model=cur_model,prompt=\"\",temp=0,freq=0.5,pres=0.5,tok=120):\n",
        "    completion = openai.Completion.create(\n",
        "        model=model,\n",
        "        prompt=prompt,\n",
        "        temperature=temp,\n",
        "        presence_penalty=pres,\n",
        "        frequency_penalty=freq,\n",
        "        max_tokens=tok,\n",
        "\n",
        "    )\n",
        "\n",
        "    return completion.choices[0].text\n"
      ]
    },
    {
      "cell_type": "code",
      "execution_count": 87,
      "metadata": {},
      "outputs": [],
      "source": [
        "def optConvo(context):\n",
        "    prompt  = f\"'{context}'\\n Summary and detail list from conversation between user and Dean: \"\n",
        "    summary = callGPT(prompt=prompt,temp=0,freq=0.2,pres=0.2,tok=120)\n",
        "\n",
        "    return summary.strip('\\n')\n"
      ]
    },
    {
      "cell_type": "code",
      "execution_count": 88,
      "metadata": {},
      "outputs": [],
      "source": [
        "\n",
        "while not done:\n",
        "\n",
        "    YOUR_PROMPT = input(\"Enter prompt: \")\n",
        "    if YOUR_PROMPT == \"exit session\":\n",
        "        done = True\n",
        "        break\n",
        "    cur_client = f\"USER: {YOUR_PROMPT}{nl}\"\n",
        "    #read in context\n",
        "    with open(curcon_path,\"r\") as cc:\n",
        "        CONTEXT = cc.read()\n",
        "        lastlines = cc.readlines()\n",
        "        if len(lastlines) > 2:\n",
        "            lastlines = lastlines[-2]\n",
        "        cc.close()\n",
        "\n",
        "    lastStrings = ' '.join([str(elem) for elem in lastlines])\n",
        "    #####\n",
        "\n",
        "    #optimize converation\n",
        "    optCONTEXT = optConvo(CONTEXT)\n",
        "    ####\n",
        "    \n",
        "    with open(ctx_path, \"r\") as ctx:\n",
        "        ctxPrompt = ctx.read()\n",
        "        ctx.close()\n",
        "\n",
        "    ctxPrompt = ctxPrompt.format(optCONTEXT,lastStrings,YOUR_PROMPT)\n",
        "\n",
        "    #prompt\n",
        "    completion = callGPT(prompt=ctxPrompt,temp=1,freq=2,pres=2,tok=120)\n",
        "\n",
        "    completion = completion.strip('\\n\\\"')\n",
        "    cur_dean = f\"DEAN: {completion}{nl}\"\n",
        "\n",
        "    #update convo\n",
        "    with open(curcon_path,\"a+\") as cc:\n",
        "        cc.write(cur_client)\n",
        "        cc.close()\n",
        "\n",
        "    \n",
        "    with open(curcon_path,\"a+\") as cc:\n",
        "        cc.write(cur_dean)\n",
        "        cc.close()\n",
        "        \n",
        "    #rate response\n",
        "    finish = False\n",
        "    while not finish:\n",
        "        rate = input(\"(+/-): \")\n",
        "        if '+' in rate:\n",
        "            cur_dean = cur_dean[:5] + \"(+)\" + cur_dean[5:]\n",
        "            finish=True\n",
        "        elif '-' in rate:\n",
        "            cur_dean = cur_dean[:5] + \"(-)\" + cur_dean[5:]\n",
        "            finish=True\n",
        "        \n",
        "\n",
        "    with open(conv_path, \"a+\") as conv:\n",
        "        pro_res = cur_client + cur_dean\n",
        "        conv.write(pro_res)\n",
        "        conv.close()\n",
        "\n",
        "  \n",
        "    \n",
        "\n",
        "\n",
        "# erase convo file\n",
        "open(curcon_path, \"w\").close()\n",
        "####\n",
        "\n",
        "\n"
      ]
    },
    {
      "cell_type": "code",
      "execution_count": 89,
      "metadata": {},
      "outputs": [],
      "source": [
        "# with open(curcon_path,\"r\") as cc:\n",
        "#         CONTEXT = cc.read()\n",
        "#         lastlines = cc.readlines()\n",
        "#         if len(lastlines) > 2:\n",
        "#             lastlines = lastlines[-2]\n",
        "#         cc.close()\n",
        "\n",
        "# lastStrings = ' '.join([str(elem) for elem in lastlines])\n",
        "#     #####\n",
        "\n",
        "#     #optimize converation\n",
        "# optCONTEXT = optConvo(CONTEXT)\n",
        "# print(optCONTEXT)"
      ]
    },
    {
      "cell_type": "code",
      "execution_count": 90,
      "metadata": {},
      "outputs": [],
      "source": [
        "    # hintGen = \"Paraphrase the therapy clients intents based on the following string: \" + '\"' + YOUR_PROMPT + '\"'\n",
        "\n",
        "    # HINT = openai.Completion.create(\n",
        "    #     model=cur_model,\n",
        "    #     prompt=hintGen,\n",
        "    #     temperature=0.3,\n",
        "    #     presence_penalty=0.5,\n",
        "    #     frequency_penalty=0.5,\n",
        "    #     max_tokens=100,\n",
        "\n",
        "    # )\n"
      ]
    }
  ],
  "metadata": {
    "anaconda-cloud": {},
    "kernelspec": {
      "display_name": "Python 3.10.6 64-bit",
      "language": "python",
      "name": "python3"
    },
    "language_info": {
      "codemirror_mode": {
        "name": "ipython",
        "version": 3
      },
      "file_extension": ".py",
      "mimetype": "text/x-python",
      "name": "python",
      "nbconvert_exporter": "python",
      "pygments_lexer": "ipython3",
      "version": "3.10.6"
    },
    "vscode": {
      "interpreter": {
        "hash": "aa66cff0e5ae32d77d72462d7ae697218f766852b9c548e64c3db10232013247"
      }
    }
  },
  "nbformat": 4,
  "nbformat_minor": 4
}
