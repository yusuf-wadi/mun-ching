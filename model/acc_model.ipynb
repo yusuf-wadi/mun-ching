{
  "cells": [
    {
      "cell_type": "code",
      "execution_count": 1,
      "metadata": {},
      "outputs": [],
      "source": [
        "import openai\n",
        "# set api key\n",
        "openai.api_key_path = \"text/key.txt\"\n",
        "cur_model = \"text-davinci-002\"\n",
        "done = False\n",
        "finish = False\n",
        "lastlines=[]\n",
        "user = \"Wadi\"\n",
        "\n",
        "curcon_path = 'mem/cur_convo.txt'\n",
        "conv_path = 'text/conversations.txt'\n",
        "res_path = 'text/response.txt'\n",
        "ctx_path = 'mem/cntx_prompt.txt'\n",
        "nl = '\\n'"
      ]
    },
    {
      "cell_type": "code",
      "execution_count": 2,
      "metadata": {},
      "outputs": [],
      "source": [
        "\n",
        "def searchConv():\n",
        "\n",
        "    #define sentence as serious or trivial\n",
        "    #if serious, pull responses similar.\n",
        "    #else if trivial stick to current summary or reduce context. \n",
        "    \n",
        "    \n",
        "    return\n"
      ]
    },
    {
      "cell_type": "code",
      "execution_count": 3,
      "metadata": {},
      "outputs": [],
      "source": [
        "def callGPT(model=cur_model,prompt=\"\",temp=0,freq=0.5,pres=0.5,tok=120):\n",
        "    completion = openai.Completion.create(\n",
        "        model=model,\n",
        "        prompt=prompt,\n",
        "        temperature=temp,\n",
        "        presence_penalty=pres,\n",
        "        frequency_penalty=freq,\n",
        "        max_tokens=tok,\n",
        "        stop=[\"USER:\"]\n",
        "\n",
        "    )\n",
        "    response = completion.choices[0].text\n",
        "    return response.strip('\\n')\n"
      ]
    },
    {
      "cell_type": "code",
      "execution_count": 4,
      "metadata": {},
      "outputs": [],
      "source": [
        "def optConvo(context):\n",
        "    prompt  = f\"'{context}'\\n Detailed summary about conversation between the user {user} and Calypso: \"\n",
        "    summary = callGPT(prompt=prompt,temp=0,freq=0.2,pres=0.2,tok=256)\n",
        "\n",
        "    return summary.strip('\\n')\n"
      ]
    },
    {
      "cell_type": "code",
      "execution_count": 5,
      "metadata": {},
      "outputs": [
        {
          "name": "stdout",
          "output_type": "stream",
          "text": [
            "\n",
            "The woman named Calypso named is a soft-spoken,compassionate, and intelligent therapist. Calypso responds with lexically aligned and relevant responses.\n",
            "\n",
            "CONTEXT:\n",
            "\n",
            "USER:Hello calypso. I am helping my sister on a research essay, trying to get an internship, and working on school and personal projects all at the same time. I am feeling a lil overwhelmed.\n",
            "CALYPSO:\n"
          ]
        }
      ],
      "source": [
        "\n",
        "while not done:\n",
        "    optCONTEXT=\"\"\n",
        "    your_prompt = input(\"Enter prompt: \")\n",
        "    if your_prompt == \"exit session\":\n",
        "        done = True\n",
        "        break\n",
        "    cur_client = f\"USER: {your_prompt}{nl}\"\n",
        "    #read in context\n",
        "    with open(curcon_path,\"r\") as cc:\n",
        "        context_ = cc.read()\n",
        "        lastlines = context_.split('\\n')\n",
        "        lastStrings = \"\"\n",
        "        if len(lastlines) > 1:\n",
        "            lastStrings = lastlines[-2]\n",
        "        cc.close()\n",
        "    #####\n",
        "    \n",
        "    #optimize converation\n",
        "    if len(lastlines) > 2:\n",
        "        optCONTEXT = optConvo(context_)\n",
        "    ####\n",
        "    print(optCONTEXT)\n",
        "\n",
        "    with open(ctx_path, \"r\") as ctx:\n",
        "        ctxPrompt = ctx.read()\n",
        "        ctx.close()\n",
        "    \n",
        "\n",
        "    ctxPrompt = ctxPrompt.format(optCONTEXT,lastStrings,your_prompt)\n",
        "    print(ctxPrompt)\n",
        "\n",
        "    #prompt\n",
        "    completion = callGPT(prompt=ctxPrompt,temp=1,freq=2,pres=2,tok=120)\n",
        "    completion = completion.strip('\\\"')\n",
        "    cur_caly = f\"CALYPSO: {completion}{nl}\"\n",
        "\n",
        "    #update convo\n",
        "    with open(curcon_path,\"a+\") as cc:\n",
        "        cc.write(cur_client)\n",
        "        cc.close()\n",
        "\n",
        "    \n",
        "    with open(curcon_path,\"a+\") as cc:\n",
        "        cc.write(cur_caly)\n",
        "        cc.close()\n",
        "        \n",
        "    #rate response\n",
        "    finish = False\n",
        "    calyLen = len(\"CALYPSO:\")\n",
        "    while not finish:\n",
        "        rate = input(\"(+/-): \")\n",
        "        if '+' in rate:\n",
        "            cur_caly = cur_caly[:calyLen] + \"(+)\" + cur_caly[calyLen:]\n",
        "            finish=True\n",
        "        elif '-' in rate:\n",
        "            cur_caly = cur_caly[:calyLen] + \"(-)\" + cur_caly[calyLen:]\n",
        "            finish=True\n",
        "        \n",
        "\n",
        "    with open(conv_path, \"a+\") as conv:\n",
        "        pro_res = cur_client + cur_caly\n",
        "        conv.write(pro_res)\n",
        "        conv.close()\n",
        "\n",
        "  \n",
        "    \n",
        "\n",
        "\n",
        "# erase convo file\n",
        "open(curcon_path, \"w\").close()\n",
        "####\n",
        "\n",
        "\n"
      ]
    },
    {
      "cell_type": "code",
      "execution_count": 6,
      "metadata": {},
      "outputs": [],
      "source": [
        "# with open(curcon_path,\"r\") as cc:\n",
        "#         CONTEXT = cc.read()\n",
        "#         lastlines = cc.readlines()\n",
        "#         if len(lastlines) > 2:\n",
        "#             lastlines = lastlines[-2]\n",
        "#         cc.close()\n",
        "\n",
        "# lastStrings = ' '.join([str(elem) for elem in lastlines])\n",
        "#     #####\n",
        "\n",
        "#     #optimize converation\n",
        "# optCONTEXT = optConvo(CONTEXT)\n",
        "# print(optCONTEXT)"
      ]
    },
    {
      "cell_type": "code",
      "execution_count": 7,
      "metadata": {},
      "outputs": [],
      "source": [
        "    # hintGen = \"Paraphrase the therapy clients intents based on the following string: \" + '\"' + YOUR_PROMPT + '\"'\n",
        "\n",
        "    # HINT = openai.Completion.create(\n",
        "    #     model=cur_model,\n",
        "    #     prompt=hintGen,\n",
        "    #     temperature=0.3,\n",
        "    #     presence_penalty=0.5,\n",
        "    #     frequency_penalty=0.5,\n",
        "    #     max_tokens=100,\n",
        "\n",
        "    # )\n"
      ]
    }
  ],
  "metadata": {
    "anaconda-cloud": {},
    "kernelspec": {
      "display_name": "Python 3.10.6 64-bit",
      "language": "python",
      "name": "python3"
    },
    "language_info": {
      "codemirror_mode": {
        "name": "ipython",
        "version": 3
      },
      "file_extension": ".py",
      "mimetype": "text/x-python",
      "name": "python",
      "nbconvert_exporter": "python",
      "pygments_lexer": "ipython3",
      "version": "3.10.6"
    },
    "vscode": {
      "interpreter": {
        "hash": "aa66cff0e5ae32d77d72462d7ae697218f766852b9c548e64c3db10232013247"
      }
    }
  },
  "nbformat": 4,
  "nbformat_minor": 4
}
