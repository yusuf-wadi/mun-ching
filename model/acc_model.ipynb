{
  "cells": [
    {
      "cell_type": "code",
      "execution_count": 1,
      "metadata": {},
      "outputs": [],
      "source": [
        "import openai\n",
        "\n",
        "# set api key\n",
        "openai.api_key_path = \"text/key.txt\"\n",
        "cur_model = \"text-davinci-002\"\n",
        "done = False\n",
        "\n",
        "curcon_path = 'mem/cur_convo.txt'\n",
        "conv_path = 'text/conversations.txt'\n",
        "res_path = 'text/response.txt'\n",
        "ctx_path = 'mem/cntx_prompt.txt'\n",
        "nl = '\\n'"
      ]
    },
    {
      "cell_type": "code",
      "execution_count": 2,
      "metadata": {},
      "outputs": [],
      "source": [
        "\n",
        "def searchConv():\n",
        "    return\n"
      ]
    },
    {
      "cell_type": "code",
      "execution_count": null,
      "metadata": {},
      "outputs": [],
      "source": [
        "def callGPT(prompt,temp,freq,pres,tok):\n",
        "    completion = openai.Completion.create(\n",
        "        model=cur_model,\n",
        "        prompt=prompt,\n",
        "        temperature=temp,\n",
        "        presence_penalty=pres,\n",
        "        frequency_penalty=freq,\n",
        "        max_tokens=tok,\n",
        "\n",
        "    )\n",
        "\n",
        "    return completion\n"
      ]
    },
    {
      "cell_type": "code",
      "execution_count": null,
      "metadata": {},
      "outputs": [],
      "source": [
        "def optConvo(context):\n",
        "    prompt  = f\"'{context}'\\nSummary:\"\n",
        "    summary = callGPT(prompt,0.7,0,0,120)\n",
        "\n",
        "    return summary.choices[0].text"
      ]
    },
    {
      "cell_type": "code",
      "execution_count": 3,
      "metadata": {},
      "outputs": [],
      "source": [
        "\n",
        "while not done:\n",
        "\n",
        "    YOUR_PROMPT = input(\"Enter prompt: \")\n",
        "    if YOUR_PROMPT == \"exit session\":\n",
        "        done = True\n",
        "        break\n",
        "    cur_client = f\"USER: {YOUR_PROMPT}{nl}\"\n",
        "    #read in context\n",
        "    with open(curcon_path,\"r\") as cc:\n",
        "        CONTEXT = cc.read()\n",
        "        cc.close()\n",
        "    #####\n",
        "\n",
        "    #optimize converation\n",
        "    optCONTEXT = optConvo(CONTEXT)\n",
        "    ####\n",
        "    \n",
        "    with open(ctx_path, \"r\") as ctx:\n",
        "        ctxPrompt = ctx.read()\n",
        "        ctx.close()\n",
        "\n",
        "    ctxPrompt = ctxPrompt.format(optCONTEXT, YOUR_PROMPT)\n",
        "\n",
        "    #prompt\n",
        "    completion = callGPT(ctxPrompt,1,2,2,120)\n",
        "\n",
        "    completion = completion.choices[0].text.strip('\\n')\n",
        "    cur_dean = f\"DEAN: {completion}{nl}\"\n",
        "    \n",
        "    #update convo\n",
        "    with open(curcon_path,\"a+\") as cc:\n",
        "        cc.write(cur_client)\n",
        "        cc.close()\n",
        "    with open(curcon_path,\"a+\") as cc:\n",
        "        cc.write(cur_dean)\n",
        "        cc.close()\n",
        "        \n",
        "    with open(conv_path, \"a+\") as conv:\n",
        "        pro_res = cur_client + cur_dean\n",
        "        conv.write(pro_res)\n",
        "        conv.close()\n",
        "    \n",
        "# erase convo file\n",
        "cur_convo = open(curcon_path, \"w\")\n",
        "cur_convo.close()\n",
        "####\n",
        "\n",
        "\n"
      ]
    },
    {
      "cell_type": "code",
      "execution_count": 4,
      "metadata": {},
      "outputs": [],
      "source": [
        "    # hintGen = \"Paraphrase the therapy clients intents based on the following string: \" + '\"' + YOUR_PROMPT + '\"'\n",
        "\n",
        "    # HINT = openai.Completion.create(\n",
        "    #     model=cur_model,\n",
        "    #     prompt=hintGen,\n",
        "    #     temperature=0.3,\n",
        "    #     presence_penalty=0.5,\n",
        "    #     frequency_penalty=0.5,\n",
        "    #     max_tokens=100,\n",
        "\n",
        "    # )\n"
      ]
    }
  ],
  "metadata": {
    "anaconda-cloud": {},
    "kernelspec": {
      "display_name": "Python 3.10.6 64-bit",
      "language": "python",
      "name": "python3"
    },
    "language_info": {
      "codemirror_mode": {
        "name": "ipython",
        "version": 3
      },
      "file_extension": ".py",
      "mimetype": "text/x-python",
      "name": "python",
      "nbconvert_exporter": "python",
      "pygments_lexer": "ipython3",
      "version": "3.10.6"
    },
    "vscode": {
      "interpreter": {
        "hash": "aa66cff0e5ae32d77d72462d7ae697218f766852b9c548e64c3db10232013247"
      }
    }
  },
  "nbformat": 4,
  "nbformat_minor": 4
}
