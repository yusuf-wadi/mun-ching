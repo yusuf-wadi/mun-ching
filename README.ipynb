{
 "cells": [
  {
   "cell_type": "markdown",
   "metadata": {},
   "source": [
    "# Project Run Down\n",
    "- Finetuning GPT-3 to talk more as a therapist or conversational partner would\n",
    "\n",
    "## Steps\n",
    " ### Data Collection\n",
    "    - attempted to get transcripts from alexanderstreet.com, but that failed miserably (javascript, login, no institutional access)\n",
    "    - realized I could use GPT3 itself to create the conversations. they would be just general enough and well written enough to <br>\n",
    "      to pass as real prompt and response\n",
    "    - removed all whitespaces and blank lines from the text file in the command line\n",
    "    - used the file JSONLprep.py to turn the text file transcripts.txt into a suitable JSONL file\n"
   ]
  },
  {
   "cell_type": "code",
   "execution_count": null,
   "metadata": {},
   "outputs": [],
   "source": [
    "import json\n",
    "\n",
    "jsonl = open(\"gpt_finetuning_data.jsonl\", \"w\")\n",
    "\n",
    "\n",
    "\n",
    "with open(\"transcripts.txt\",\"r\") as f:\n",
    "    f_iter = iter(f)\n",
    "    for i,line in enumerate(f):\n",
    "            line = line.strip('\\n')\n",
    "            json.dump({'prompt': line , 'completion': next(f_iter).strip('\\n')}, jsonl)  \n",
    "            jsonl.write('\\n')"
   ]
  },
  {
   "cell_type": "markdown",
   "metadata": {},
   "source": [
    "  ### Fine tuning\n",
    "    - opened the project folder in wsl, set my OPENAI_API_KEY variable, then ran the finetuning script\n",
    "    - very light training file, cost 25cents, gave me strange results."
   ]
  }
 ],
 "metadata": {
  "kernelspec": {
   "display_name": "Python 3.10.6 64-bit",
   "language": "python",
   "name": "python3"
  },
  "language_info": {
   "name": "python",
   "version": "3.10.6"
  },
  "orig_nbformat": 4,
  "vscode": {
   "interpreter": {
    "hash": "aa66cff0e5ae32d77d72462d7ae697218f766852b9c548e64c3db10232013247"
   }
  }
 },
 "nbformat": 4,
 "nbformat_minor": 2
}
